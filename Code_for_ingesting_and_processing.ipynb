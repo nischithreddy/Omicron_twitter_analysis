{
 "cells": [
  {
   "cell_type": "markdown",
   "metadata": {},
   "source": [
    "The tweets to be obtained are from 21st November 2021 to 31st January 2022. Filtered the tweet IDs of English tweets and store them in a txt file.These tweet IDs in a text file will be fed to a Tweet Hydration app to hydrate the app from Twitter.\n",
    "Based on the given tweet IDs the Hydrator app generates the tweet files of csv format that can be used for analytics."
   ]
  },
  {
   "cell_type": "code",
   "execution_count": null,
   "metadata": {
    "id": "UI1MUv9hegp4"
   },
   "outputs": [],
   "source": [
    "import pandas as pd\n",
    "import numpy as np\n",
    "import gzip"
   ]
  },
  {
   "cell_type": "code",
   "execution_count": null,
   "metadata": {
    "id": "a6KjV-6Kegp_",
    "outputId": "84e11aca-9886-46c6-9d4e-ecca63480b30"
   },
   "outputs": [
    {
     "name": "stderr",
     "output_type": "stream",
     "text": [
      "C:\\Users\\abhij\\anaconda3\\lib\\site-packages\\IPython\\core\\interactiveshell.py:3331: DtypeWarning: Columns (0) have mixed types.Specify dtype option on import or set low_memory=False.\n",
      "  exec(code_obj, self.user_global_ns, self.user_ns)\n"
     ]
    },
    {
     "data": {
      "text/html": [
       "<div>\n",
       "<style scoped>\n",
       "    .dataframe tbody tr th:only-of-type {\n",
       "        vertical-align: middle;\n",
       "    }\n",
       "\n",
       "    .dataframe tbody tr th {\n",
       "        vertical-align: top;\n",
       "    }\n",
       "\n",
       "    .dataframe thead th {\n",
       "        text-align: right;\n",
       "    }\n",
       "</style>\n",
       "<table border=\"1\" class=\"dataframe\">\n",
       "  <thead>\n",
       "    <tr style=\"text-align: right;\">\n",
       "      <th></th>\n",
       "      <th>0</th>\n",
       "      <th>1</th>\n",
       "      <th>2</th>\n",
       "      <th>3</th>\n",
       "      <th>4</th>\n",
       "    </tr>\n",
       "  </thead>\n",
       "  <tbody>\n",
       "    <tr>\n",
       "      <th>0</th>\n",
       "      <td>tweet_id</td>\n",
       "      <td>date</td>\n",
       "      <td>time</td>\n",
       "      <td>lang</td>\n",
       "      <td>country_code</td>\n",
       "    </tr>\n",
       "    <tr>\n",
       "      <th>1</th>\n",
       "      <td>1466271299139891202</td>\n",
       "      <td>2021-12-02</td>\n",
       "      <td>05:01:34</td>\n",
       "      <td>hi</td>\n",
       "      <td>NaN</td>\n",
       "    </tr>\n",
       "    <tr>\n",
       "      <th>2</th>\n",
       "      <td>1466271300100530177</td>\n",
       "      <td>2021-12-02</td>\n",
       "      <td>05:01:34</td>\n",
       "      <td>fr</td>\n",
       "      <td>NaN</td>\n",
       "    </tr>\n",
       "    <tr>\n",
       "      <th>3</th>\n",
       "      <td>1466271304668311555</td>\n",
       "      <td>2021-12-02</td>\n",
       "      <td>05:01:35</td>\n",
       "      <td>und</td>\n",
       "      <td>NaN</td>\n",
       "    </tr>\n",
       "    <tr>\n",
       "      <th>4</th>\n",
       "      <td>1466271307343884292</td>\n",
       "      <td>2021-12-02</td>\n",
       "      <td>05:01:36</td>\n",
       "      <td>en</td>\n",
       "      <td>NaN</td>\n",
       "    </tr>\n",
       "  </tbody>\n",
       "</table>\n",
       "</div>"
      ],
      "text/plain": [
       "                     0           1         2     3             4\n",
       "0             tweet_id        date      time  lang  country_code\n",
       "1  1466271299139891202  2021-12-02  05:01:34    hi           NaN\n",
       "2  1466271300100530177  2021-12-02  05:01:34    fr           NaN\n",
       "3  1466271304668311555  2021-12-02  05:01:35   und           NaN\n",
       "4  1466271307343884292  2021-12-02  05:01:36    en           NaN"
      ]
     },
     "execution_count": 5,
     "metadata": {},
     "output_type": "execute_result"
    }
   ],
   "source": [
    "with gzip.open('2021-12-02_clean-dataset.tsv.gz') as f:\n",
    "\n",
    "    df = pd.read_csv(f, sep='\\t', header = None)\n",
    "\n",
    "df.head()"
   ]
  },
  {
   "cell_type": "code",
   "execution_count": null,
   "metadata": {
    "id": "ZwO1YnzlegqB",
    "outputId": "adfc4016-8768-4eb1-cbdd-849830fc1566"
   },
   "outputs": [
    {
     "name": "stderr",
     "output_type": "stream",
     "text": [
      "C:\\Users\\abhij\\anaconda3\\lib\\site-packages\\IPython\\core\\interactiveshell.py:3331: DtypeWarning: Columns (0) have mixed types.Specify dtype option on import or set low_memory=False.\n",
      "  exec(code_obj, self.user_global_ns, self.user_ns)\n"
     ]
    }
   ],
   "source": [
    "#df = pd.read_csv('2021-12-02_clean-dataset.tsv', sep='\\t', header = None)"
   ]
  },
  {
   "cell_type": "code",
   "execution_count": null,
   "metadata": {
    "id": "LJJA4dTDegqC"
   },
   "outputs": [],
   "source": [
    "df = df[df.iloc[:,3]==\"en\"]"
   ]
  },
  {
   "cell_type": "code",
   "execution_count": null,
   "metadata": {
    "id": "B9uxekdlegqD"
   },
   "outputs": [],
   "source": [
    "df.drop(df.index[0], inplace =True)"
   ]
  },
  {
   "cell_type": "code",
   "execution_count": null,
   "metadata": {
    "id": "zuuhPBm8egqE"
   },
   "outputs": [],
   "source": [
    "df = df[0]"
   ]
  },
  {
   "cell_type": "code",
   "execution_count": null,
   "metadata": {
    "id": "r3SkbVYTegqF",
    "outputId": "6622691e-5853-4a7d-ff35-52a096b13db1"
   },
   "outputs": [
    {
     "data": {
      "text/plain": [
       "5         1466271309172822017\n",
       "6         1466271309667520517\n",
       "7         1466271323370442757\n",
       "10        1466271336163065860\n",
       "12        1466271345071775746\n",
       "                 ...         \n",
       "249323    1466633270741725184\n",
       "249324    1466633271656153091\n",
       "249326    1466633272788664323\n",
       "249327    1466633274197872645\n",
       "249328    1466633275825278976\n",
       "Name: 0, Length: 138444, dtype: object"
      ]
     },
     "execution_count": 10,
     "metadata": {},
     "output_type": "execute_result"
    }
   ],
   "source": [
    "df"
   ]
  },
  {
   "cell_type": "code",
   "execution_count": null,
   "metadata": {
    "id": "iDUk5yd5egqH",
    "outputId": "57d96851-606d-4d8d-a4de-694c37890a64"
   },
   "outputs": [
    {
     "data": {
      "text/plain": [
       "0"
      ]
     },
     "execution_count": 11,
     "metadata": {},
     "output_type": "execute_result"
    }
   ],
   "source": [
    "df.isnull().sum()"
   ]
  },
  {
   "cell_type": "code",
   "execution_count": null,
   "metadata": {
    "id": "FftPpUV-egqJ"
   },
   "outputs": [],
   "source": [
    "#np.savetxt(r'np.txt', df.values)\n",
    "df.to_csv(r'tweet.txt', header=None, index=None, mode='a')"
   ]
  },
  {
   "cell_type": "code",
   "execution_count": null,
   "metadata": {
    "id": "mvbCg3g5egqK",
    "outputId": "2bf1573a-ccac-40eb-e50f-113ad6b30b05"
   },
   "outputs": [
    {
     "name": "stdout",
     "output_type": "stream",
     "text": [
      " Volume in drive C is Windows\n",
      " Volume Serial Number is AE55-5860\n",
      "\n",
      " Directory of C:\\Users\\abhij\\OneDrive - University of Illinois at Chicago\\UIC STUDY\\Spring 2022\\IDS 506\\Proj\n",
      "\n",
      "03/10/2022  10:42 PM    <DIR>          .\n",
      "03/10/2022  10:42 PM    <DIR>          ..\n",
      "03/10/2022  10:39 PM    <DIR>          .ipynb_checkpoints\n",
      "12/05/2021  03:37 AM        12,147,528 2021-12-01_clean-dataset.tsv\n",
      "03/09/2022  07:31 PM         2,567,637 2021-12-01_clean-dataset.tsv.gz\n",
      "03/10/2022  10:34 PM         2,532,603 2021-12-02_clean-dataset.tsv.gz\n",
      "03/10/2022  10:41 PM            10,190 Code_for_ingesting_and processing.ipynb\n",
      "03/09/2022  07:44 PM         2,906,673 id_12012021.txt\n",
      "03/09/2022  08:08 PM       481,263,035 tweet.jsonl\n",
      "03/10/2022  10:42 PM         2,907,324 tweet.txt\n",
      "03/09/2022  08:10 PM        87,495,458 tweet_12012021.csv\n",
      "               8 File(s)    591,830,448 bytes\n",
      "               3 Dir(s)  24,853,237,760 bytes free\n"
     ]
    }
   ],
   "source": [
    "ls"
   ]
  }
 ],
 "metadata": {
  "colab": {
   "provenance": []
  },
  "kernelspec": {
   "display_name": "Python 3",
   "language": "python",
   "name": "python3"
  },
  "language_info": {
   "codemirror_mode": {
    "name": "ipython",
    "version": 3
   },
   "file_extension": ".py",
   "mimetype": "text/x-python",
   "name": "python",
   "nbconvert_exporter": "python",
   "pygments_lexer": "ipython3",
   "version": "3.8.8"
  }
 },
 "nbformat": 4,
 "nbformat_minor": 1
}
