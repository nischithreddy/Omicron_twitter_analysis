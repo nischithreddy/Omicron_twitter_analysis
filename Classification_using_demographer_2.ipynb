{
  "nbformat": 4,
  "nbformat_minor": 0,
  "metadata": {
    "colab": {
      "provenance": [],
      "collapsed_sections": []
    },
    "kernelspec": {
      "name": "python3",
      "display_name": "Python 3"
    },
    "language_info": {
      "name": "python"
    }
  },
  "cells": [
    {
      "cell_type": "code",
      "execution_count": null,
      "metadata": {
        "colab": {
          "base_uri": "https://localhost:8080/"
        },
        "id": "XGqTngN5YK8a",
        "outputId": "9b57e2d6-0a78-43dc-e32e-176ab16eb710"
      },
      "outputs": [
        {
          "output_type": "stream",
          "name": "stdout",
          "text": [
            "Mounted at /content/drive\n"
          ]
        }
      ],
      "source": [
        "import pandas as pd\n",
        "import numpy as np\n",
        "import glob\n",
        "from datetime import datetime\n",
        "import os\n",
        "\n",
        "import seaborn as sns\n",
        "import matplotlib.pyplot as plt\n",
        "\n",
        "from google.colab import drive\n",
        "drive.mount('/content/drive')"
      ]
    },
    {
      "cell_type": "code",
      "source": [
        "#!ls /usr/local/lib/python3.7/dist-packages/demographer/"
      ],
      "metadata": {
        "colab": {
          "base_uri": "https://localhost:8080/"
        },
        "id": "0QVFMMBfm0yh",
        "outputId": "263d3102-8ea2-4a5d-fd19-0955a4a9cf0a"
      },
      "execution_count": null,
      "outputs": [
        {
          "output_type": "stream",
          "name": "stdout",
          "text": [
            "ls: cannot access '/usr/local/lib/python3.7/dist-packages/demographer/': No such file or directory\n"
          ]
        }
      ]
    },
    {
      "cell_type": "code",
      "source": [
        "!pip install demographer\n",
        "\n",
        "#!pip install tensorflow==1.13.1\n",
        "\n",
        "!pip install tensorflow\n",
        "\n",
        "import json\n",
        "import pandas as pd\n",
        "import numpy as np\n",
        "from demographer import process_tweet\n",
        "#from google.colab import drive\n",
        "from scipy.stats import mode\n",
        "\n",
        "#drive.mount('/content/drive')\n",
        "\n",
        "# Commented out IPython magic to ensure Python compatibility.\n",
        "!ls\n",
        "# %cd /\n",
        "\n",
        "# Commented out IPython magic to ensure Python compatibility.\n",
        "# %cd /\n",
        "# %cd content/drive/MyDrive\n",
        "\n",
        "from demographer.indorg_neural import NeuralOrganizationDemographer\n",
        "from demographer.indorg import IndividualOrgDemographer\n"
      ],
      "metadata": {
        "colab": {
          "base_uri": "https://localhost:8080/"
        },
        "id": "OxmzgU4NYMTl",
        "outputId": "09dc7810-a2cf-41c1-d1d4-afcb8ba4c9cc"
      },
      "execution_count": null,
      "outputs": [
        {
          "output_type": "stream",
          "name": "stdout",
          "text": [
            "Requirement already satisfied: demographer in /usr/local/lib/python3.7/dist-packages (1.0.4)\n",
            "Requirement already satisfied: numpy in /usr/local/lib/python3.7/dist-packages (from demographer) (1.21.5)\n",
            "Requirement already satisfied: scikit-learn in /usr/local/lib/python3.7/dist-packages (from demographer) (1.0.2)\n",
            "Requirement already satisfied: scipy>=1.1.0 in /usr/local/lib/python3.7/dist-packages (from scikit-learn->demographer) (1.4.1)\n",
            "Requirement already satisfied: joblib>=0.11 in /usr/local/lib/python3.7/dist-packages (from scikit-learn->demographer) (1.1.0)\n",
            "Requirement already satisfied: threadpoolctl>=2.0.0 in /usr/local/lib/python3.7/dist-packages (from scikit-learn->demographer) (3.1.0)\n",
            "Requirement already satisfied: tensorflow in /usr/local/lib/python3.7/dist-packages (1.13.1)\n",
            "Requirement already satisfied: wheel>=0.26 in /usr/local/lib/python3.7/dist-packages (from tensorflow) (0.37.1)\n",
            "Requirement already satisfied: termcolor>=1.1.0 in /usr/local/lib/python3.7/dist-packages (from tensorflow) (1.1.0)\n",
            "Requirement already satisfied: gast>=0.2.0 in /usr/local/lib/python3.7/dist-packages (from tensorflow) (0.5.3)\n",
            "Requirement already satisfied: grpcio>=1.8.6 in /usr/local/lib/python3.7/dist-packages (from tensorflow) (1.44.0)\n",
            "Requirement already satisfied: keras-preprocessing>=1.0.5 in /usr/local/lib/python3.7/dist-packages (from tensorflow) (1.1.2)\n",
            "Requirement already satisfied: absl-py>=0.1.6 in /usr/local/lib/python3.7/dist-packages (from tensorflow) (1.0.0)\n",
            "Requirement already satisfied: six>=1.10.0 in /usr/local/lib/python3.7/dist-packages (from tensorflow) (1.15.0)\n",
            "Requirement already satisfied: protobuf>=3.6.1 in /usr/local/lib/python3.7/dist-packages (from tensorflow) (3.17.3)\n",
            "Requirement already satisfied: tensorboard<1.14.0,>=1.13.0 in /usr/local/lib/python3.7/dist-packages (from tensorflow) (1.13.1)\n",
            "Requirement already satisfied: astor>=0.6.0 in /usr/local/lib/python3.7/dist-packages (from tensorflow) (0.8.1)\n",
            "Requirement already satisfied: tensorflow-estimator<1.14.0rc0,>=1.13.0 in /usr/local/lib/python3.7/dist-packages (from tensorflow) (1.13.0)\n",
            "Requirement already satisfied: numpy>=1.13.3 in /usr/local/lib/python3.7/dist-packages (from tensorflow) (1.21.5)\n",
            "Requirement already satisfied: keras-applications>=1.0.6 in /usr/local/lib/python3.7/dist-packages (from tensorflow) (1.0.8)\n",
            "Requirement already satisfied: h5py in /usr/local/lib/python3.7/dist-packages (from keras-applications>=1.0.6->tensorflow) (3.1.0)\n",
            "Requirement already satisfied: markdown>=2.6.8 in /usr/local/lib/python3.7/dist-packages (from tensorboard<1.14.0,>=1.13.0->tensorflow) (3.3.6)\n",
            "Requirement already satisfied: werkzeug>=0.11.15 in /usr/local/lib/python3.7/dist-packages (from tensorboard<1.14.0,>=1.13.0->tensorflow) (1.0.1)\n",
            "Requirement already satisfied: importlib-metadata>=4.4 in /usr/local/lib/python3.7/dist-packages (from markdown>=2.6.8->tensorboard<1.14.0,>=1.13.0->tensorflow) (4.11.3)\n",
            "Requirement already satisfied: zipp>=0.5 in /usr/local/lib/python3.7/dist-packages (from importlib-metadata>=4.4->markdown>=2.6.8->tensorboard<1.14.0,>=1.13.0->tensorflow) (3.7.0)\n",
            "Requirement already satisfied: typing-extensions>=3.6.4 in /usr/local/lib/python3.7/dist-packages (from importlib-metadata>=4.4->markdown>=2.6.8->tensorboard<1.14.0,>=1.13.0->tensorflow) (3.10.0.2)\n",
            "Requirement already satisfied: mock>=2.0.0 in /usr/local/lib/python3.7/dist-packages (from tensorflow-estimator<1.14.0rc0,>=1.13.0->tensorflow) (4.0.3)\n",
            "Requirement already satisfied: cached-property in /usr/local/lib/python3.7/dist-packages (from h5py->keras-applications>=1.0.6->tensorflow) (1.5.2)\n",
            "drive  sample_data\n"
          ]
        }
      ]
    },
    {
      "cell_type": "code",
      "source": [
        "demographer_list = [\n",
        "        IndividualOrgDemographer(setup='balanced'),\n",
        "        NeuralOrganizationDemographer(setup='balanced'),\n",
        "        IndividualOrgDemographer(setup='full'),\n",
        "        NeuralOrganizationDemographer(setup='full')\n",
        "        \n",
        "    ]\n",
        "\n",
        "required_cols = ['friends_count', 'followers_count', 'listed_count', 'statuses_count', 'description', 'verified', 'created_at', 'name', 'screen_name']\n",
        "\n",
        "cols_in_hydrated = []\n",
        "\n",
        "for col in required_cols:\n",
        "  cols_in_hydrated.append('user_' + col)\n",
        "\n",
        "date1 = '2022-01-21'\n",
        "date2 = '2022-01-31'\n",
        "\n",
        "#date1 = datetime.datetime.strptime('12012021', '%m%d%Y')\n",
        "#date2 = datetime.datetime.strptime('12022021', '%m%d%Y')\n",
        "\n",
        "mydates = pd.date_range(date1, date2, freq='d')#.tolist()\n",
        "print(mydates)\n",
        "for d in pd.date_range(date1, date2, freq='d'):\n",
        "  d_str = d.strftime(\"%m%d%Y\")\n",
        "  print(d_str)\n",
        "  path = \"/content/drive/MyDrive/IDS 506 Healthcare Analytics/506 Project/OutputFiles/tweet_\" + d_str + \".csv\"\n",
        "\n",
        "  df = pd.read_csv(path, engine='python')\n",
        "  df_sub = df[cols_in_hydrated]\n",
        "  df_sub.columns = required_cols\n",
        "\n",
        "  for col in df_sub.columns:\n",
        "    if df_sub[col].dtype=='object':\n",
        "      df_sub[col] = df_sub[col].fillna('')\n",
        "    else:\n",
        "      df_sub[col] = df_sub[col].fillna(0)\n",
        "      \n",
        "  def ind_org_classify(tweet):\n",
        "    result = process_tweet(tweet, demographer_list)\n",
        "    demo_list = ['indorg_balanced', 'indorg_full', 'indorg_neural_balanced', 'indorg_neural_full']\n",
        "    output = []\n",
        "    for demo in demo_list:\n",
        "      output.append(result.get(demo).get('value'))\n",
        "    return mode(output)[0][0]\n",
        "\n",
        "  # result.get('indorg_balanced').get('value')\n",
        "  tweet_list = df_sub.to_dict(orient='records')\n",
        "  # tweet_list = df_sub.head(2000).to_dict(orient='records')\n",
        "  #result = map(ind_org_classify, tweet_list)\n",
        "\n",
        "  #df_sub.head(2000)['ind_org'] = list(result)\n",
        "\n",
        "  df_new = df\n",
        "\n",
        "  df_new['ind_org'] = list(map(ind_org_classify, tweet_list))\n",
        "\n",
        "  tweet_list\n",
        "  print(df_new.shape)\n",
        "  df_new[cols_in_hydrated + ['ind_org']]\n",
        "\n",
        "  print(df_new['ind_org'].value_counts())\n",
        "\n",
        "  df_ind = df_new[df_new['ind_org']== 'ind']\n",
        "\n",
        "  path2 = \"/content/drive/MyDrive/IDS 506 Healthcare Analytics/506 Project/IndivFiles\"\n",
        "\n",
        "  #os.makedirs(path, exist_ok=False)\n",
        "  isExist = os.path.exists(path2)\n",
        "  if not isExist:\n",
        "  \n",
        "    # Create a new directory because it does not exist \n",
        "    os.makedirs(path2)\n",
        "    print(\"The new directory is created!\")\n",
        "  dest_path = \"/content/drive/MyDrive/IDS 506 Healthcare Analytics/506 Project/IndivFiles/df_ind_\" + d_str + \".csv\"\n",
        "  df_ind.to_csv(dest_path)\n",
        "\n",
        "\n"
      ],
      "metadata": {
        "colab": {
          "base_uri": "https://localhost:8080/"
        },
        "id": "Yq9jbiiQYban",
        "outputId": "73f60556-f254-4fcb-8260-b421e0cb0c2c"
      },
      "execution_count": null,
      "outputs": [
        {
          "output_type": "stream",
          "name": "stdout",
          "text": [
            "INFO:tensorflow:Restoring parameters from /usr/local/lib/python3.7/dist-packages/demographer/models/indorg_neural/balanced\n",
            "INFO:tensorflow:Restoring parameters from /usr/local/lib/python3.7/dist-packages/demographer/models/indorg_neural/full\n",
            "DatetimeIndex(['2022-01-21', '2022-01-22', '2022-01-23', '2022-01-24',\n",
            "               '2022-01-25', '2022-01-26', '2022-01-27', '2022-01-28',\n",
            "               '2022-01-29', '2022-01-30', '2022-01-31'],\n",
            "              dtype='datetime64[ns]', freq='D')\n",
            "01212022\n"
          ]
        },
        {
          "output_type": "stream",
          "name": "stderr",
          "text": [
            "/usr/local/lib/python3.7/dist-packages/ipykernel_launcher.py:37: SettingWithCopyWarning: \n",
            "A value is trying to be set on a copy of a slice from a DataFrame.\n",
            "Try using .loc[row_indexer,col_indexer] = value instead\n",
            "\n",
            "See the caveats in the documentation: https://pandas.pydata.org/pandas-docs/stable/user_guide/indexing.html#returning-a-view-versus-a-copy\n",
            "/usr/local/lib/python3.7/dist-packages/ipykernel_launcher.py:35: SettingWithCopyWarning: \n",
            "A value is trying to be set on a copy of a slice from a DataFrame.\n",
            "Try using .loc[row_indexer,col_indexer] = value instead\n",
            "\n",
            "See the caveats in the documentation: https://pandas.pydata.org/pandas-docs/stable/user_guide/indexing.html#returning-a-view-versus-a-copy\n"
          ]
        },
        {
          "output_type": "stream",
          "name": "stdout",
          "text": [
            "(92204, 36)\n",
            "ind    68355\n",
            "org    23849\n",
            "Name: ind_org, dtype: int64\n",
            "01222022\n",
            "(69696, 36)\n",
            "ind    56097\n",
            "org    13599\n",
            "Name: ind_org, dtype: int64\n",
            "01232022\n",
            "(65240, 36)\n",
            "ind    52321\n",
            "org    12919\n",
            "Name: ind_org, dtype: int64\n",
            "01242022\n",
            "(93780, 36)\n",
            "ind    70611\n",
            "org    23169\n",
            "Name: ind_org, dtype: int64\n",
            "01252022\n",
            "(93242, 36)\n",
            "ind    69848\n",
            "org    23394\n",
            "Name: ind_org, dtype: int64\n",
            "01262022\n"
          ]
        },
        {
          "output_type": "stream",
          "name": "stderr",
          "text": [
            "/usr/local/lib/python3.7/dist-packages/IPython/core/interactiveshell.py:2882: DtypeWarning: Columns (0) have mixed types.Specify dtype option on import or set low_memory=False.\n",
            "  exec(code_obj, self.user_global_ns, self.user_ns)\n"
          ]
        },
        {
          "output_type": "stream",
          "name": "stdout",
          "text": [
            "(83862, 36)\n",
            "ind    62331\n",
            "org    21531\n",
            "Name: ind_org, dtype: int64\n",
            "01272022\n",
            "(89356, 36)\n",
            "ind    67875\n",
            "org    21481\n",
            "Name: ind_org, dtype: int64\n",
            "01282022\n",
            "(84748, 36)\n",
            "ind    64218\n",
            "org    20530\n",
            "Name: ind_org, dtype: int64\n",
            "01292022\n",
            "(62737, 36)\n",
            "ind    50479\n",
            "org    12258\n",
            "Name: ind_org, dtype: int64\n",
            "01302022\n",
            "(58947, 36)\n",
            "ind    46987\n",
            "org    11960\n",
            "Name: ind_org, dtype: int64\n",
            "01312022\n",
            "(93474, 36)\n",
            "ind    70750\n",
            "org    22724\n",
            "Name: ind_org, dtype: int64\n"
          ]
        }
      ]
    },
    {
      "cell_type": "code",
      "source": [
        "df_new['ind_org'].value_counts()"
      ],
      "metadata": {
        "id": "LvBjq4g9YMQN"
      },
      "execution_count": null,
      "outputs": []
    },
    {
      "cell_type": "markdown",
      "source": [
        "## Ignore below this"
      ],
      "metadata": {
        "id": "Pi-_z-NwaYqh"
      }
    },
    {
      "cell_type": "code",
      "source": [],
      "metadata": {
        "id": "z9AAo5zjYoOe"
      },
      "execution_count": null,
      "outputs": []
    },
    {
      "cell_type": "code",
      "source": [
        " p = \"/content/drive/MyDrive/IDS 506/Project/IndivFiles/df_ind_12212021.csv\"\n",
        " df_p = pd.read_csv(p, engine ='python')"
      ],
      "metadata": {
        "id": "xefQ5mSD67jr"
      },
      "execution_count": null,
      "outputs": []
    },
    {
      "cell_type": "code",
      "source": [
        "df_p.columns"
      ],
      "metadata": {
        "colab": {
          "base_uri": "https://localhost:8080/"
        },
        "id": "NWmRxc1XVWwJ",
        "outputId": "1a2bbb0b-db75-4837-eb1a-c6132602ca04"
      },
      "execution_count": null,
      "outputs": [
        {
          "output_type": "execute_result",
          "data": {
            "text/plain": [
              "Index(['Unnamed: 0', 'coordinates', 'created_at', 'hashtags', 'media', 'urls',\n",
              "       'favorite_count', 'id', 'in_reply_to_screen_name',\n",
              "       'in_reply_to_status_id', 'in_reply_to_user_id', 'lang', 'place',\n",
              "       'possibly_sensitive', 'quote_id', 'retweet_count', 'retweet_id',\n",
              "       'retweet_screen_name', 'source', 'text', 'tweet_url', 'user_created_at',\n",
              "       'user_id', 'user_default_profile_image', 'user_description',\n",
              "       'user_favourites_count', 'user_followers_count', 'user_friends_count',\n",
              "       'user_listed_count', 'user_location', 'user_name', 'user_screen_name',\n",
              "       'user_statuses_count', 'user_time_zone', 'user_urls', 'user_verified',\n",
              "       'ind_org'],\n",
              "      dtype='object')"
            ]
          },
          "metadata": {},
          "execution_count": 5
        }
      ]
    },
    {
      "cell_type": "code",
      "source": [
        "#df_p['user_id'].astype(str)"
      ],
      "metadata": {
        "colab": {
          "base_uri": "https://localhost:8080/"
        },
        "id": "LeW_RJfiV-QJ",
        "outputId": "64cb582a-2df8-4669-dc29-2b98bfb1adfd"
      },
      "execution_count": null,
      "outputs": [
        {
          "output_type": "execute_result",
          "data": {
            "text/plain": [
              "0         1.2833137872404603e+18\n",
              "1                     15132414.0\n",
              "2         1.3459171579813967e+18\n",
              "3                     42290742.0\n",
              "4                   2402357353.0\n",
              "                   ...          \n",
              "101889              4376204315.0\n",
              "101890    1.3839503608222228e+18\n",
              "101891                73606144.0\n",
              "101892     1.117887014953726e+18\n",
              "101893               880308102.0\n",
              "Name: user_id, Length: 101894, dtype: object"
            ]
          },
          "metadata": {},
          "execution_count": 6
        }
      ]
    },
    {
      "cell_type": "code",
      "source": [
        "len(df_p['user_id'].unique())\n",
        "len(df_p['id'].unique())"
      ],
      "metadata": {
        "colab": {
          "base_uri": "https://localhost:8080/"
        },
        "id": "BajD0yQeXAoP",
        "outputId": "90fd28e9-1c36-43a9-95af-a096a3d3a3b1"
      },
      "execution_count": null,
      "outputs": [
        {
          "output_type": "execute_result",
          "data": {
            "text/plain": [
              "101827"
            ]
          },
          "metadata": {},
          "execution_count": 7
        }
      ]
    },
    {
      "cell_type": "code",
      "source": [
        "df_p[['id', 'user_created_at',\n",
        "       'user_id']].head(100)"
      ],
      "metadata": {
        "colab": {
          "base_uri": "https://localhost:8080/",
          "height": 423
        },
        "id": "_f1QuDcYVSFF",
        "outputId": "b37c4474-a2f8-4ef2-a797-b037d0820749"
      },
      "execution_count": null,
      "outputs": [
        {
          "output_type": "execute_result",
          "data": {
            "text/plain": [
              "                     id                 user_created_at       user_id\n",
              "0   1473156753533517824  Wed Jul 15 08:14:00 +0000 2020  1.283314e+18\n",
              "1   1473156832310935553  Mon Jun 16 09:09:46 +0000 2008  1.513241e+07\n",
              "2   1473156817349799938  Mon Jan 04 02:17:24 +0000 2021  1.345917e+18\n",
              "3   1473156547366641668  Sun May 24 22:03:38 +0000 2009  4.229074e+07\n",
              "4   1473156739000193031  Sat Mar 22 00:28:06 +0000 2014  2.402357e+09\n",
              "..                  ...                             ...           ...\n",
              "95  1473157086494302208  Thu Mar 11 02:38:38 +0000 2021  1.369840e+18\n",
              "96  1473157215020359685  Fri Oct 11 19:26:54 +0000 2013  1.954912e+09\n",
              "97  1473156986715848707  Sun Jan 02 18:10:48 +0000 2011  2.332386e+08\n",
              "98  1473157121680183298  Sun Apr 28 11:59:48 +0000 2013  1.386804e+09\n",
              "99  1473156948451282946  Wed Sep 09 06:33:36 +0000 2020  1.303582e+18\n",
              "\n",
              "[100 rows x 3 columns]"
            ],
            "text/html": [
              "\n",
              "  <div id=\"df-9e96ce14-c5b7-4755-b4d4-1883e9e9bf7d\">\n",
              "    <div class=\"colab-df-container\">\n",
              "      <div>\n",
              "<style scoped>\n",
              "    .dataframe tbody tr th:only-of-type {\n",
              "        vertical-align: middle;\n",
              "    }\n",
              "\n",
              "    .dataframe tbody tr th {\n",
              "        vertical-align: top;\n",
              "    }\n",
              "\n",
              "    .dataframe thead th {\n",
              "        text-align: right;\n",
              "    }\n",
              "</style>\n",
              "<table border=\"1\" class=\"dataframe\">\n",
              "  <thead>\n",
              "    <tr style=\"text-align: right;\">\n",
              "      <th></th>\n",
              "      <th>id</th>\n",
              "      <th>user_created_at</th>\n",
              "      <th>user_id</th>\n",
              "    </tr>\n",
              "  </thead>\n",
              "  <tbody>\n",
              "    <tr>\n",
              "      <th>0</th>\n",
              "      <td>1473156753533517824</td>\n",
              "      <td>Wed Jul 15 08:14:00 +0000 2020</td>\n",
              "      <td>1.283314e+18</td>\n",
              "    </tr>\n",
              "    <tr>\n",
              "      <th>1</th>\n",
              "      <td>1473156832310935553</td>\n",
              "      <td>Mon Jun 16 09:09:46 +0000 2008</td>\n",
              "      <td>1.513241e+07</td>\n",
              "    </tr>\n",
              "    <tr>\n",
              "      <th>2</th>\n",
              "      <td>1473156817349799938</td>\n",
              "      <td>Mon Jan 04 02:17:24 +0000 2021</td>\n",
              "      <td>1.345917e+18</td>\n",
              "    </tr>\n",
              "    <tr>\n",
              "      <th>3</th>\n",
              "      <td>1473156547366641668</td>\n",
              "      <td>Sun May 24 22:03:38 +0000 2009</td>\n",
              "      <td>4.229074e+07</td>\n",
              "    </tr>\n",
              "    <tr>\n",
              "      <th>4</th>\n",
              "      <td>1473156739000193031</td>\n",
              "      <td>Sat Mar 22 00:28:06 +0000 2014</td>\n",
              "      <td>2.402357e+09</td>\n",
              "    </tr>\n",
              "    <tr>\n",
              "      <th>...</th>\n",
              "      <td>...</td>\n",
              "      <td>...</td>\n",
              "      <td>...</td>\n",
              "    </tr>\n",
              "    <tr>\n",
              "      <th>95</th>\n",
              "      <td>1473157086494302208</td>\n",
              "      <td>Thu Mar 11 02:38:38 +0000 2021</td>\n",
              "      <td>1.369840e+18</td>\n",
              "    </tr>\n",
              "    <tr>\n",
              "      <th>96</th>\n",
              "      <td>1473157215020359685</td>\n",
              "      <td>Fri Oct 11 19:26:54 +0000 2013</td>\n",
              "      <td>1.954912e+09</td>\n",
              "    </tr>\n",
              "    <tr>\n",
              "      <th>97</th>\n",
              "      <td>1473156986715848707</td>\n",
              "      <td>Sun Jan 02 18:10:48 +0000 2011</td>\n",
              "      <td>2.332386e+08</td>\n",
              "    </tr>\n",
              "    <tr>\n",
              "      <th>98</th>\n",
              "      <td>1473157121680183298</td>\n",
              "      <td>Sun Apr 28 11:59:48 +0000 2013</td>\n",
              "      <td>1.386804e+09</td>\n",
              "    </tr>\n",
              "    <tr>\n",
              "      <th>99</th>\n",
              "      <td>1473156948451282946</td>\n",
              "      <td>Wed Sep 09 06:33:36 +0000 2020</td>\n",
              "      <td>1.303582e+18</td>\n",
              "    </tr>\n",
              "  </tbody>\n",
              "</table>\n",
              "<p>100 rows × 3 columns</p>\n",
              "</div>\n",
              "      <button class=\"colab-df-convert\" onclick=\"convertToInteractive('df-9e96ce14-c5b7-4755-b4d4-1883e9e9bf7d')\"\n",
              "              title=\"Convert this dataframe to an interactive table.\"\n",
              "              style=\"display:none;\">\n",
              "        \n",
              "  <svg xmlns=\"http://www.w3.org/2000/svg\" height=\"24px\"viewBox=\"0 0 24 24\"\n",
              "       width=\"24px\">\n",
              "    <path d=\"M0 0h24v24H0V0z\" fill=\"none\"/>\n",
              "    <path d=\"M18.56 5.44l.94 2.06.94-2.06 2.06-.94-2.06-.94-.94-2.06-.94 2.06-2.06.94zm-11 1L8.5 8.5l.94-2.06 2.06-.94-2.06-.94L8.5 2.5l-.94 2.06-2.06.94zm10 10l.94 2.06.94-2.06 2.06-.94-2.06-.94-.94-2.06-.94 2.06-2.06.94z\"/><path d=\"M17.41 7.96l-1.37-1.37c-.4-.4-.92-.59-1.43-.59-.52 0-1.04.2-1.43.59L10.3 9.45l-7.72 7.72c-.78.78-.78 2.05 0 2.83L4 21.41c.39.39.9.59 1.41.59.51 0 1.02-.2 1.41-.59l7.78-7.78 2.81-2.81c.8-.78.8-2.07 0-2.86zM5.41 20L4 18.59l7.72-7.72 1.47 1.35L5.41 20z\"/>\n",
              "  </svg>\n",
              "      </button>\n",
              "      \n",
              "  <style>\n",
              "    .colab-df-container {\n",
              "      display:flex;\n",
              "      flex-wrap:wrap;\n",
              "      gap: 12px;\n",
              "    }\n",
              "\n",
              "    .colab-df-convert {\n",
              "      background-color: #E8F0FE;\n",
              "      border: none;\n",
              "      border-radius: 50%;\n",
              "      cursor: pointer;\n",
              "      display: none;\n",
              "      fill: #1967D2;\n",
              "      height: 32px;\n",
              "      padding: 0 0 0 0;\n",
              "      width: 32px;\n",
              "    }\n",
              "\n",
              "    .colab-df-convert:hover {\n",
              "      background-color: #E2EBFA;\n",
              "      box-shadow: 0px 1px 2px rgba(60, 64, 67, 0.3), 0px 1px 3px 1px rgba(60, 64, 67, 0.15);\n",
              "      fill: #174EA6;\n",
              "    }\n",
              "\n",
              "    [theme=dark] .colab-df-convert {\n",
              "      background-color: #3B4455;\n",
              "      fill: #D2E3FC;\n",
              "    }\n",
              "\n",
              "    [theme=dark] .colab-df-convert:hover {\n",
              "      background-color: #434B5C;\n",
              "      box-shadow: 0px 1px 3px 1px rgba(0, 0, 0, 0.15);\n",
              "      filter: drop-shadow(0px 1px 2px rgba(0, 0, 0, 0.3));\n",
              "      fill: #FFFFFF;\n",
              "    }\n",
              "  </style>\n",
              "\n",
              "      <script>\n",
              "        const buttonEl =\n",
              "          document.querySelector('#df-9e96ce14-c5b7-4755-b4d4-1883e9e9bf7d button.colab-df-convert');\n",
              "        buttonEl.style.display =\n",
              "          google.colab.kernel.accessAllowed ? 'block' : 'none';\n",
              "\n",
              "        async function convertToInteractive(key) {\n",
              "          const element = document.querySelector('#df-9e96ce14-c5b7-4755-b4d4-1883e9e9bf7d');\n",
              "          const dataTable =\n",
              "            await google.colab.kernel.invokeFunction('convertToInteractive',\n",
              "                                                     [key], {});\n",
              "          if (!dataTable) return;\n",
              "\n",
              "          const docLinkHtml = 'Like what you see? Visit the ' +\n",
              "            '<a target=\"_blank\" href=https://colab.research.google.com/notebooks/data_table.ipynb>data table notebook</a>'\n",
              "            + ' to learn more about interactive tables.';\n",
              "          element.innerHTML = '';\n",
              "          dataTable['output_type'] = 'display_data';\n",
              "          await google.colab.output.renderOutput(dataTable, element);\n",
              "          const docLink = document.createElement('div');\n",
              "          docLink.innerHTML = docLinkHtml;\n",
              "          element.appendChild(docLink);\n",
              "        }\n",
              "      </script>\n",
              "    </div>\n",
              "  </div>\n",
              "  "
            ]
          },
          "metadata": {},
          "execution_count": 8
        }
      ]
    },
    {
      "cell_type": "code",
      "source": [
        "df_p['user_id']= df_p['user_id'].apply(lambda x: '%.1f' % x)"
      ],
      "metadata": {
        "id": "5I-wpQXncYiJ"
      },
      "execution_count": null,
      "outputs": []
    },
    {
      "cell_type": "code",
      "source": [
        "df_p[['id', 'user_created_at',\n",
        "       'user_id']].head(100)"
      ],
      "metadata": {
        "colab": {
          "base_uri": "https://localhost:8080/",
          "height": 423
        },
        "id": "HnPVQRsidx-m",
        "outputId": "1f25680e-3a80-44ef-f6dd-e4371178aeb6"
      },
      "execution_count": null,
      "outputs": [
        {
          "output_type": "execute_result",
          "data": {
            "text/plain": [
              "                     id                 user_created_at                user_id\n",
              "0   1473156753533517824  Wed Jul 15 08:14:00 +0000 2020  1283313787240460288.0\n",
              "1   1473156832310935553  Mon Jun 16 09:09:46 +0000 2008             15132414.0\n",
              "2   1473156817349799938  Mon Jan 04 02:17:24 +0000 2021  1345917157981396736.0\n",
              "3   1473156547366641668  Sun May 24 22:03:38 +0000 2009             42290742.0\n",
              "4   1473156739000193031  Sat Mar 22 00:28:06 +0000 2014           2402357353.0\n",
              "..                  ...                             ...                    ...\n",
              "95  1473157086494302208  Thu Mar 11 02:38:38 +0000 2021  1369840083914874880.0\n",
              "96  1473157215020359685  Fri Oct 11 19:26:54 +0000 2013           1954912118.0\n",
              "97  1473156986715848707  Sun Jan 02 18:10:48 +0000 2011            233238623.0\n",
              "98  1473157121680183298  Sun Apr 28 11:59:48 +0000 2013           1386803540.0\n",
              "99  1473156948451282946  Wed Sep 09 06:33:36 +0000 2020  1303582033558597632.0\n",
              "\n",
              "[100 rows x 3 columns]"
            ],
            "text/html": [
              "\n",
              "  <div id=\"df-bdfa78d8-efdc-4874-bd83-66ad6c259fe0\">\n",
              "    <div class=\"colab-df-container\">\n",
              "      <div>\n",
              "<style scoped>\n",
              "    .dataframe tbody tr th:only-of-type {\n",
              "        vertical-align: middle;\n",
              "    }\n",
              "\n",
              "    .dataframe tbody tr th {\n",
              "        vertical-align: top;\n",
              "    }\n",
              "\n",
              "    .dataframe thead th {\n",
              "        text-align: right;\n",
              "    }\n",
              "</style>\n",
              "<table border=\"1\" class=\"dataframe\">\n",
              "  <thead>\n",
              "    <tr style=\"text-align: right;\">\n",
              "      <th></th>\n",
              "      <th>id</th>\n",
              "      <th>user_created_at</th>\n",
              "      <th>user_id</th>\n",
              "    </tr>\n",
              "  </thead>\n",
              "  <tbody>\n",
              "    <tr>\n",
              "      <th>0</th>\n",
              "      <td>1473156753533517824</td>\n",
              "      <td>Wed Jul 15 08:14:00 +0000 2020</td>\n",
              "      <td>1283313787240460288.0</td>\n",
              "    </tr>\n",
              "    <tr>\n",
              "      <th>1</th>\n",
              "      <td>1473156832310935553</td>\n",
              "      <td>Mon Jun 16 09:09:46 +0000 2008</td>\n",
              "      <td>15132414.0</td>\n",
              "    </tr>\n",
              "    <tr>\n",
              "      <th>2</th>\n",
              "      <td>1473156817349799938</td>\n",
              "      <td>Mon Jan 04 02:17:24 +0000 2021</td>\n",
              "      <td>1345917157981396736.0</td>\n",
              "    </tr>\n",
              "    <tr>\n",
              "      <th>3</th>\n",
              "      <td>1473156547366641668</td>\n",
              "      <td>Sun May 24 22:03:38 +0000 2009</td>\n",
              "      <td>42290742.0</td>\n",
              "    </tr>\n",
              "    <tr>\n",
              "      <th>4</th>\n",
              "      <td>1473156739000193031</td>\n",
              "      <td>Sat Mar 22 00:28:06 +0000 2014</td>\n",
              "      <td>2402357353.0</td>\n",
              "    </tr>\n",
              "    <tr>\n",
              "      <th>...</th>\n",
              "      <td>...</td>\n",
              "      <td>...</td>\n",
              "      <td>...</td>\n",
              "    </tr>\n",
              "    <tr>\n",
              "      <th>95</th>\n",
              "      <td>1473157086494302208</td>\n",
              "      <td>Thu Mar 11 02:38:38 +0000 2021</td>\n",
              "      <td>1369840083914874880.0</td>\n",
              "    </tr>\n",
              "    <tr>\n",
              "      <th>96</th>\n",
              "      <td>1473157215020359685</td>\n",
              "      <td>Fri Oct 11 19:26:54 +0000 2013</td>\n",
              "      <td>1954912118.0</td>\n",
              "    </tr>\n",
              "    <tr>\n",
              "      <th>97</th>\n",
              "      <td>1473156986715848707</td>\n",
              "      <td>Sun Jan 02 18:10:48 +0000 2011</td>\n",
              "      <td>233238623.0</td>\n",
              "    </tr>\n",
              "    <tr>\n",
              "      <th>98</th>\n",
              "      <td>1473157121680183298</td>\n",
              "      <td>Sun Apr 28 11:59:48 +0000 2013</td>\n",
              "      <td>1386803540.0</td>\n",
              "    </tr>\n",
              "    <tr>\n",
              "      <th>99</th>\n",
              "      <td>1473156948451282946</td>\n",
              "      <td>Wed Sep 09 06:33:36 +0000 2020</td>\n",
              "      <td>1303582033558597632.0</td>\n",
              "    </tr>\n",
              "  </tbody>\n",
              "</table>\n",
              "<p>100 rows × 3 columns</p>\n",
              "</div>\n",
              "      <button class=\"colab-df-convert\" onclick=\"convertToInteractive('df-bdfa78d8-efdc-4874-bd83-66ad6c259fe0')\"\n",
              "              title=\"Convert this dataframe to an interactive table.\"\n",
              "              style=\"display:none;\">\n",
              "        \n",
              "  <svg xmlns=\"http://www.w3.org/2000/svg\" height=\"24px\"viewBox=\"0 0 24 24\"\n",
              "       width=\"24px\">\n",
              "    <path d=\"M0 0h24v24H0V0z\" fill=\"none\"/>\n",
              "    <path d=\"M18.56 5.44l.94 2.06.94-2.06 2.06-.94-2.06-.94-.94-2.06-.94 2.06-2.06.94zm-11 1L8.5 8.5l.94-2.06 2.06-.94-2.06-.94L8.5 2.5l-.94 2.06-2.06.94zm10 10l.94 2.06.94-2.06 2.06-.94-2.06-.94-.94-2.06-.94 2.06-2.06.94z\"/><path d=\"M17.41 7.96l-1.37-1.37c-.4-.4-.92-.59-1.43-.59-.52 0-1.04.2-1.43.59L10.3 9.45l-7.72 7.72c-.78.78-.78 2.05 0 2.83L4 21.41c.39.39.9.59 1.41.59.51 0 1.02-.2 1.41-.59l7.78-7.78 2.81-2.81c.8-.78.8-2.07 0-2.86zM5.41 20L4 18.59l7.72-7.72 1.47 1.35L5.41 20z\"/>\n",
              "  </svg>\n",
              "      </button>\n",
              "      \n",
              "  <style>\n",
              "    .colab-df-container {\n",
              "      display:flex;\n",
              "      flex-wrap:wrap;\n",
              "      gap: 12px;\n",
              "    }\n",
              "\n",
              "    .colab-df-convert {\n",
              "      background-color: #E8F0FE;\n",
              "      border: none;\n",
              "      border-radius: 50%;\n",
              "      cursor: pointer;\n",
              "      display: none;\n",
              "      fill: #1967D2;\n",
              "      height: 32px;\n",
              "      padding: 0 0 0 0;\n",
              "      width: 32px;\n",
              "    }\n",
              "\n",
              "    .colab-df-convert:hover {\n",
              "      background-color: #E2EBFA;\n",
              "      box-shadow: 0px 1px 2px rgba(60, 64, 67, 0.3), 0px 1px 3px 1px rgba(60, 64, 67, 0.15);\n",
              "      fill: #174EA6;\n",
              "    }\n",
              "\n",
              "    [theme=dark] .colab-df-convert {\n",
              "      background-color: #3B4455;\n",
              "      fill: #D2E3FC;\n",
              "    }\n",
              "\n",
              "    [theme=dark] .colab-df-convert:hover {\n",
              "      background-color: #434B5C;\n",
              "      box-shadow: 0px 1px 3px 1px rgba(0, 0, 0, 0.15);\n",
              "      filter: drop-shadow(0px 1px 2px rgba(0, 0, 0, 0.3));\n",
              "      fill: #FFFFFF;\n",
              "    }\n",
              "  </style>\n",
              "\n",
              "      <script>\n",
              "        const buttonEl =\n",
              "          document.querySelector('#df-bdfa78d8-efdc-4874-bd83-66ad6c259fe0 button.colab-df-convert');\n",
              "        buttonEl.style.display =\n",
              "          google.colab.kernel.accessAllowed ? 'block' : 'none';\n",
              "\n",
              "        async function convertToInteractive(key) {\n",
              "          const element = document.querySelector('#df-bdfa78d8-efdc-4874-bd83-66ad6c259fe0');\n",
              "          const dataTable =\n",
              "            await google.colab.kernel.invokeFunction('convertToInteractive',\n",
              "                                                     [key], {});\n",
              "          if (!dataTable) return;\n",
              "\n",
              "          const docLinkHtml = 'Like what you see? Visit the ' +\n",
              "            '<a target=\"_blank\" href=https://colab.research.google.com/notebooks/data_table.ipynb>data table notebook</a>'\n",
              "            + ' to learn more about interactive tables.';\n",
              "          element.innerHTML = '';\n",
              "          dataTable['output_type'] = 'display_data';\n",
              "          await google.colab.output.renderOutput(dataTable, element);\n",
              "          const docLink = document.createElement('div');\n",
              "          docLink.innerHTML = docLinkHtml;\n",
              "          element.appendChild(docLink);\n",
              "        }\n",
              "      </script>\n",
              "    </div>\n",
              "  </div>\n",
              "  "
            ]
          },
          "metadata": {},
          "execution_count": 30
        }
      ]
    },
    {
      "cell_type": "code",
      "source": [
        "df_p['ind_org'].value_counts()"
      ],
      "metadata": {
        "colab": {
          "base_uri": "https://localhost:8080/"
        },
        "id": "Q8xGP72w7fqd",
        "outputId": "6965854d-7e4a-49b0-998f-6080a3c41006"
      },
      "execution_count": null,
      "outputs": [
        {
          "output_type": "execute_result",
          "data": {
            "text/plain": [
              "ind    101758\n",
              "Name: ind_org, dtype: int64"
            ]
          },
          "metadata": {},
          "execution_count": 7
        }
      ]
    },
    {
      "cell_type": "code",
      "source": [
        "'''\n",
        "import pandas as pd\n",
        "date1 = '2021-11-21'\n",
        "date2 = '2021-11-30'\n",
        "\n",
        "date1 = datetime.datetime.strptime('11222021', '%m%d%Y')\n",
        "date2 =  datetime.datetime.strptime('11302021', '%m%d%Y')\n",
        "\n",
        "mydates = pd.date_range(date1, date2, freq='d')#.tolist()\n",
        "print(mydates)\n",
        "for d in pd.date_range(date1, date2, freq='d'):\n",
        "  d_str = d.strftime(\"%m%d%Y\")\n",
        "  path = \"/content/drive/MyDrive/IDS 506 Healthcare Analytics/506 Project/OutputFiles/tweet_\" + d_str\n",
        "  #print(type(d_str))\n",
        "  print(path)\n",
        "\n",
        "'''\n",
        "\n",
        "  #print(d)\n",
        "  #print(str(d))\n",
        "'''\n",
        "l =mydates.tolist()\n",
        "s = str(l)\n",
        "#print(type(s))\n",
        "#print(s)\n",
        "#print(s[0])\n",
        "'''"
      ],
      "metadata": {
        "id": "bIcjNiHhYML2"
      },
      "execution_count": null,
      "outputs": []
    },
    {
      "cell_type": "code",
      "source": [
        "'''\n",
        "import os\n",
        "\n",
        "path = '/content/drive/MyDrive/IDS 506 Healthcare Analytics/506 Project/Exp_Dir1'\n",
        "\n",
        "#os.makedirs(path, exist_ok=False)\n",
        "isExist = os.path.exists(path)\n",
        "if not isExist:\n",
        "  \n",
        "  # Create a new directory because it does not exist \n",
        "  os.makedirs(path)\n",
        "  print(\"The new directory is created!\")\n",
        "#print(\"The new directory is created!\")\n",
        "'''"
      ],
      "metadata": {
        "id": "kPw2pX2ysvLi"
      },
      "execution_count": null,
      "outputs": []
    },
    {
      "cell_type": "code",
      "source": [
        "\n",
        "'''\n",
        "import re\n",
        "import datetime\n",
        "\n",
        "def datetime_to_str_date(dt):\n",
        "    return re.sub(r'\\T.+$','', dt.isoformat())\n",
        "\n",
        "start_date = datetime.datetime.strptime('11222021', '%m%d%Y')\n",
        "end_date =   datetime.datetime.strptime('01312022', '%m%d%Y')   # datetime.datetime.today()\n",
        "num_of_days = (end_date - start_date).days\n",
        "\n",
        "date_list = map(\n",
        "        datetime_to_str_date, \n",
        "        [start_date + datetime.timedelta(days=x) for x in range(0, num_of_days)]\n",
        ")\n",
        "\n",
        "print(date_list)\n",
        "'''"
      ],
      "metadata": {
        "id": "K9ovLU9ug6Zn"
      },
      "execution_count": null,
      "outputs": []
    }
  ]
}