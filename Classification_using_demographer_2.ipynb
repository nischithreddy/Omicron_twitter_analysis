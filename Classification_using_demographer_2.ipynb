{
 "cells": [
  {
   "cell_type": "code",
   "execution_count": null,
   "metadata": {
    "colab": {
     "base_uri": "https://localhost:8080/"
    },
    "id": "XGqTngN5YK8a",
    "outputId": "9b57e2d6-0a78-43dc-e32e-176ab16eb710"
   },
   "outputs": [
    {
     "name": "stdout",
     "output_type": "stream",
     "text": [
      "Mounted at /content/drive\n"
     ]
    }
   ],
   "source": [
    "import pandas as pd\n",
    "import numpy as np\n",
    "import glob\n",
    "from datetime import datetime\n",
    "import os\n",
    "\n",
    "import seaborn as sns\n",
    "import matplotlib.pyplot as plt\n",
    "\n",
    "from google.colab import drive\n",
    "drive.mount('/content/drive')"
   ]
  },
  {
   "cell_type": "code",
   "execution_count": null,
   "metadata": {
    "colab": {
     "base_uri": "https://localhost:8080/"
    },
    "id": "0QVFMMBfm0yh",
    "outputId": "263d3102-8ea2-4a5d-fd19-0955a4a9cf0a"
   },
   "outputs": [
    {
     "name": "stdout",
     "output_type": "stream",
     "text": [
      "ls: cannot access '/usr/local/lib/python3.7/dist-packages/demographer/': No such file or directory\n"
     ]
    }
   ],
   "source": [
    "#!ls /usr/local/lib/python3.7/dist-packages/demographer/"
   ]
  },
  {
   "cell_type": "code",
   "execution_count": null,
   "metadata": {
    "colab": {
     "base_uri": "https://localhost:8080/"
    },
    "id": "OxmzgU4NYMTl",
    "outputId": "09dc7810-a2cf-41c1-d1d4-afcb8ba4c9cc"
   },
   "outputs": [
    {
     "name": "stdout",
     "output_type": "stream",
     "text": [
      "Requirement already satisfied: demographer in /usr/local/lib/python3.7/dist-packages (1.0.4)\n",
      "Requirement already satisfied: numpy in /usr/local/lib/python3.7/dist-packages (from demographer) (1.21.5)\n",
      "Requirement already satisfied: scikit-learn in /usr/local/lib/python3.7/dist-packages (from demographer) (1.0.2)\n",
      "Requirement already satisfied: scipy>=1.1.0 in /usr/local/lib/python3.7/dist-packages (from scikit-learn->demographer) (1.4.1)\n",
      "Requirement already satisfied: joblib>=0.11 in /usr/local/lib/python3.7/dist-packages (from scikit-learn->demographer) (1.1.0)\n",
      "Requirement already satisfied: threadpoolctl>=2.0.0 in /usr/local/lib/python3.7/dist-packages (from scikit-learn->demographer) (3.1.0)\n",
      "Requirement already satisfied: tensorflow in /usr/local/lib/python3.7/dist-packages (1.13.1)\n",
      "Requirement already satisfied: wheel>=0.26 in /usr/local/lib/python3.7/dist-packages (from tensorflow) (0.37.1)\n",
      "Requirement already satisfied: termcolor>=1.1.0 in /usr/local/lib/python3.7/dist-packages (from tensorflow) (1.1.0)\n",
      "Requirement already satisfied: gast>=0.2.0 in /usr/local/lib/python3.7/dist-packages (from tensorflow) (0.5.3)\n",
      "Requirement already satisfied: grpcio>=1.8.6 in /usr/local/lib/python3.7/dist-packages (from tensorflow) (1.44.0)\n",
      "Requirement already satisfied: keras-preprocessing>=1.0.5 in /usr/local/lib/python3.7/dist-packages (from tensorflow) (1.1.2)\n",
      "Requirement already satisfied: absl-py>=0.1.6 in /usr/local/lib/python3.7/dist-packages (from tensorflow) (1.0.0)\n",
      "Requirement already satisfied: six>=1.10.0 in /usr/local/lib/python3.7/dist-packages (from tensorflow) (1.15.0)\n",
      "Requirement already satisfied: protobuf>=3.6.1 in /usr/local/lib/python3.7/dist-packages (from tensorflow) (3.17.3)\n",
      "Requirement already satisfied: tensorboard<1.14.0,>=1.13.0 in /usr/local/lib/python3.7/dist-packages (from tensorflow) (1.13.1)\n",
      "Requirement already satisfied: astor>=0.6.0 in /usr/local/lib/python3.7/dist-packages (from tensorflow) (0.8.1)\n",
      "Requirement already satisfied: tensorflow-estimator<1.14.0rc0,>=1.13.0 in /usr/local/lib/python3.7/dist-packages (from tensorflow) (1.13.0)\n",
      "Requirement already satisfied: numpy>=1.13.3 in /usr/local/lib/python3.7/dist-packages (from tensorflow) (1.21.5)\n",
      "Requirement already satisfied: keras-applications>=1.0.6 in /usr/local/lib/python3.7/dist-packages (from tensorflow) (1.0.8)\n",
      "Requirement already satisfied: h5py in /usr/local/lib/python3.7/dist-packages (from keras-applications>=1.0.6->tensorflow) (3.1.0)\n",
      "Requirement already satisfied: markdown>=2.6.8 in /usr/local/lib/python3.7/dist-packages (from tensorboard<1.14.0,>=1.13.0->tensorflow) (3.3.6)\n",
      "Requirement already satisfied: werkzeug>=0.11.15 in /usr/local/lib/python3.7/dist-packages (from tensorboard<1.14.0,>=1.13.0->tensorflow) (1.0.1)\n",
      "Requirement already satisfied: importlib-metadata>=4.4 in /usr/local/lib/python3.7/dist-packages (from markdown>=2.6.8->tensorboard<1.14.0,>=1.13.0->tensorflow) (4.11.3)\n",
      "Requirement already satisfied: zipp>=0.5 in /usr/local/lib/python3.7/dist-packages (from importlib-metadata>=4.4->markdown>=2.6.8->tensorboard<1.14.0,>=1.13.0->tensorflow) (3.7.0)\n",
      "Requirement already satisfied: typing-extensions>=3.6.4 in /usr/local/lib/python3.7/dist-packages (from importlib-metadata>=4.4->markdown>=2.6.8->tensorboard<1.14.0,>=1.13.0->tensorflow) (3.10.0.2)\n",
      "Requirement already satisfied: mock>=2.0.0 in /usr/local/lib/python3.7/dist-packages (from tensorflow-estimator<1.14.0rc0,>=1.13.0->tensorflow) (4.0.3)\n",
      "Requirement already satisfied: cached-property in /usr/local/lib/python3.7/dist-packages (from h5py->keras-applications>=1.0.6->tensorflow) (1.5.2)\n",
      "drive  sample_data\n"
     ]
    }
   ],
   "source": [
    "!pip install demographer\n",
    "\n",
    "#!pip install tensorflow==1.13.1\n",
    "\n",
    "!pip install tensorflow\n",
    "\n",
    "import json\n",
    "import pandas as pd\n",
    "import numpy as np\n",
    "from demographer import process_tweet\n",
    "#from google.colab import drive\n",
    "from scipy.stats import mode\n",
    "\n",
    "#drive.mount('/content/drive')\n",
    "\n",
    "# Commented out IPython magic to ensure Python compatibility.\n",
    "!ls\n",
    "# %cd /\n",
    "\n",
    "# Commented out IPython magic to ensure Python compatibility.\n",
    "# %cd /\n",
    "# %cd content/drive/MyDrive\n",
    "\n",
    "from demographer.indorg_neural import NeuralOrganizationDemographer\n",
    "from demographer.indorg import IndividualOrgDemographer\n"
   ]
  },
  {
   "cell_type": "code",
   "execution_count": null,
   "metadata": {
    "colab": {
     "base_uri": "https://localhost:8080/"
    },
    "id": "Yq9jbiiQYban",
    "outputId": "73f60556-f254-4fcb-8260-b421e0cb0c2c"
   },
   "outputs": [
    {
     "name": "stdout",
     "output_type": "stream",
     "text": [
      "INFO:tensorflow:Restoring parameters from /usr/local/lib/python3.7/dist-packages/demographer/models/indorg_neural/balanced\n",
      "INFO:tensorflow:Restoring parameters from /usr/local/lib/python3.7/dist-packages/demographer/models/indorg_neural/full\n",
      "DatetimeIndex(['2022-01-21', '2022-01-22', '2022-01-23', '2022-01-24',\n",
      "               '2022-01-25', '2022-01-26', '2022-01-27', '2022-01-28',\n",
      "               '2022-01-29', '2022-01-30', '2022-01-31'],\n",
      "              dtype='datetime64[ns]', freq='D')\n",
      "01212022\n"
     ]
    },
    {
     "name": "stderr",
     "output_type": "stream",
     "text": [
      "/usr/local/lib/python3.7/dist-packages/ipykernel_launcher.py:37: SettingWithCopyWarning: \n",
      "A value is trying to be set on a copy of a slice from a DataFrame.\n",
      "Try using .loc[row_indexer,col_indexer] = value instead\n",
      "\n",
      "See the caveats in the documentation: https://pandas.pydata.org/pandas-docs/stable/user_guide/indexing.html#returning-a-view-versus-a-copy\n",
      "/usr/local/lib/python3.7/dist-packages/ipykernel_launcher.py:35: SettingWithCopyWarning: \n",
      "A value is trying to be set on a copy of a slice from a DataFrame.\n",
      "Try using .loc[row_indexer,col_indexer] = value instead\n",
      "\n",
      "See the caveats in the documentation: https://pandas.pydata.org/pandas-docs/stable/user_guide/indexing.html#returning-a-view-versus-a-copy\n"
     ]
    },
    {
     "name": "stdout",
     "output_type": "stream",
     "text": [
      "(92204, 36)\n",
      "ind    68355\n",
      "org    23849\n",
      "Name: ind_org, dtype: int64\n",
      "01222022\n",
      "(69696, 36)\n",
      "ind    56097\n",
      "org    13599\n",
      "Name: ind_org, dtype: int64\n",
      "01232022\n",
      "(65240, 36)\n",
      "ind    52321\n",
      "org    12919\n",
      "Name: ind_org, dtype: int64\n",
      "01242022\n",
      "(93780, 36)\n",
      "ind    70611\n",
      "org    23169\n",
      "Name: ind_org, dtype: int64\n",
      "01252022\n",
      "(93242, 36)\n",
      "ind    69848\n",
      "org    23394\n",
      "Name: ind_org, dtype: int64\n",
      "01262022\n"
     ]
    },
    {
     "name": "stderr",
     "output_type": "stream",
     "text": [
      "/usr/local/lib/python3.7/dist-packages/IPython/core/interactiveshell.py:2882: DtypeWarning: Columns (0) have mixed types.Specify dtype option on import or set low_memory=False.\n",
      "  exec(code_obj, self.user_global_ns, self.user_ns)\n"
     ]
    },
    {
     "name": "stdout",
     "output_type": "stream",
     "text": [
      "(83862, 36)\n",
      "ind    62331\n",
      "org    21531\n",
      "Name: ind_org, dtype: int64\n",
      "01272022\n",
      "(89356, 36)\n",
      "ind    67875\n",
      "org    21481\n",
      "Name: ind_org, dtype: int64\n",
      "01282022\n",
      "(84748, 36)\n",
      "ind    64218\n",
      "org    20530\n",
      "Name: ind_org, dtype: int64\n",
      "01292022\n",
      "(62737, 36)\n",
      "ind    50479\n",
      "org    12258\n",
      "Name: ind_org, dtype: int64\n",
      "01302022\n",
      "(58947, 36)\n",
      "ind    46987\n",
      "org    11960\n",
      "Name: ind_org, dtype: int64\n",
      "01312022\n",
      "(93474, 36)\n",
      "ind    70750\n",
      "org    22724\n",
      "Name: ind_org, dtype: int64\n"
     ]
    }
   ],
   "source": [
    "demographer_list = [\n",
    "        IndividualOrgDemographer(setup='balanced'),\n",
    "        NeuralOrganizationDemographer(setup='balanced'),\n",
    "        IndividualOrgDemographer(setup='full'),\n",
    "        NeuralOrganizationDemographer(setup='full')\n",
    "        \n",
    "    ]\n",
    "\n",
    "required_cols = ['friends_count', 'followers_count', 'listed_count', 'statuses_count', 'description', 'verified', 'created_at', 'name', 'screen_name']\n",
    "\n",
    "cols_in_hydrated = []\n",
    "\n",
    "for col in required_cols:\n",
    "  cols_in_hydrated.append('user_' + col)\n",
    "\n",
    "date1 = '2022-01-21'\n",
    "date2 = '2022-01-31'\n",
    "\n",
    "#date1 = datetime.datetime.strptime('12012021', '%m%d%Y')\n",
    "#date2 = datetime.datetime.strptime('12022021', '%m%d%Y')\n",
    "\n",
    "mydates = pd.date_range(date1, date2, freq='d')#.tolist()\n",
    "print(mydates)\n",
    "for d in pd.date_range(date1, date2, freq='d'):\n",
    "  d_str = d.strftime(\"%m%d%Y\")\n",
    "  print(d_str)\n",
    "  path = \"/content/drive/MyDrive/IDS 506 Healthcare Analytics/506 Project/OutputFiles/tweet_\" + d_str + \".csv\"\n",
    "\n",
    "  df = pd.read_csv(path, engine='python')\n",
    "  df_sub = df[cols_in_hydrated]\n",
    "  df_sub.columns = required_cols\n",
    "\n",
    "  for col in df_sub.columns:\n",
    "    if df_sub[col].dtype=='object':\n",
    "      df_sub[col] = df_sub[col].fillna('')\n",
    "    else:\n",
    "      df_sub[col] = df_sub[col].fillna(0)\n",
    "      \n",
    "  def ind_org_classify(tweet):\n",
    "    result = process_tweet(tweet, demographer_list)\n",
    "    demo_list = ['indorg_balanced', 'indorg_full', 'indorg_neural_balanced', 'indorg_neural_full']\n",
    "    output = []\n",
    "    for demo in demo_list:\n",
    "      output.append(result.get(demo).get('value'))\n",
    "    return mode(output)[0][0]\n",
    "\n",
    "  # result.get('indorg_balanced').get('value')\n",
    "  tweet_list = df_sub.to_dict(orient='records')\n",
    "  # tweet_list = df_sub.head(2000).to_dict(orient='records')\n",
    "  #result = map(ind_org_classify, tweet_list)\n",
    "\n",
    "  #df_sub.head(2000)['ind_org'] = list(result)\n",
    "\n",
    "  df_new = df\n",
    "\n",
    "  df_new['ind_org'] = list(map(ind_org_classify, tweet_list))\n",
    "\n",
    "  tweet_list\n",
    "  print(df_new.shape)\n",
    "  df_new[cols_in_hydrated + ['ind_org']]\n",
    "\n",
    "  print(df_new['ind_org'].value_counts())\n",
    "\n",
    "  df_ind = df_new[df_new['ind_org']== 'ind']\n",
    "\n",
    "  path2 = \"/content/drive/MyDrive/IDS 506 Healthcare Analytics/506 Project/IndivFiles\"\n",
    "\n",
    "  #os.makedirs(path, exist_ok=False)\n",
    "  isExist = os.path.exists(path2)\n",
    "  if not isExist:\n",
    "  \n",
    "    # Create a new directory because it does not exist \n",
    "    os.makedirs(path2)\n",
    "    print(\"The new directory is created!\")\n",
    "  dest_path = \"/content/drive/MyDrive/IDS 506 Healthcare Analytics/506 Project/IndivFiles/df_ind_\" + d_str + \".csv\"\n",
    "  df_ind.to_csv(dest_path)\n",
    "\n",
    "\n"
   ]
  }
 ],
 "metadata": {
  "colab": {
   "collapsed_sections": [],
   "provenance": []
  },
  "kernelspec": {
   "display_name": "Python 3",
   "language": "python",
   "name": "python3"
  },
  "language_info": {
   "codemirror_mode": {
    "name": "ipython",
    "version": 3
   },
   "file_extension": ".py",
   "mimetype": "text/x-python",
   "name": "python",
   "nbconvert_exporter": "python",
   "pygments_lexer": "ipython3",
   "version": "3.8.8"
  }
 },
 "nbformat": 4,
 "nbformat_minor": 1
}
